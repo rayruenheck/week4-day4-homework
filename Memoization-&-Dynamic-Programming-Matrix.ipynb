{
 "cells": [
  {
   "cell_type": "markdown",
   "metadata": {},
   "source": [
    "# Memoization & Dynamic Programming \n",
    "\n",
    "### Topics to discuss today:\n",
    "\n",
    "<ul>\n",
    "    <li>Time and Space Complexity  of recursive fibonnaci</li>\n",
    "    <li>The fibonacci Tree</li>\n",
    "    <li>storing solutions to sub problems</li>\n",
    "    <li>solving popular problems</li>\n",
    "</ul>\n",
    "<br>"
   ]
  },
  {
   "cell_type": "markdown",
   "metadata": {},
   "source": [
    "Calculating the time space complexity of the Fibbonacci sequence\n"
   ]
  },
  {
   "cell_type": "markdown",
   "metadata": {},
   "source": [
    "### The Fibonacci sequence"
   ]
  },
  {
   "cell_type": "code",
   "execution_count": null,
   "metadata": {},
   "outputs": [],
   "source": [
    "# binary search tree"
   ]
  },
  {
   "cell_type": "code",
   "execution_count": null,
   "metadata": {},
   "outputs": [],
   "source": []
  },
  {
   "cell_type": "code",
   "execution_count": 1,
   "metadata": {},
   "outputs": [
    {
     "name": "stdout",
     "output_type": "stream",
     "text": [
      "832040\n"
     ]
    }
   ],
   "source": [
    "# Write out a function to find the nth number in the fibonnaci sequence\n",
    "#Dealing with Time space and recursion\n",
    "\n",
    "def fibonacci(n):\n",
    "    if n < 2:\n",
    "        return n\n",
    "    return fibonacci(n-1)+fibonacci(n-2)\n",
    "\n",
    "print(fibonacci(30))"
   ]
  },
  {
   "cell_type": "markdown",
   "metadata": {},
   "source": [
    "## Trees"
   ]
  },
  {
   "cell_type": "markdown",
   "metadata": {},
   "source": [
    "the fibonacci sequence can be visualized using a tree structure. Lets look at the elements of a tree before discussing the fibonnaci tree:\n",
    "\n",
    "<img src=\"https://www.tutorialspoint.com/data_structures_algorithms/images/binary_tree.jpg\" style=\"height:400px;\">"
   ]
  },
  {
   "cell_type": "markdown",
   "metadata": {},
   "source": [
    "Let's look at the fibonnaci tree:\n",
    "\n",
    "<img src=\"data:image/jpeg;base64,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\" style=\"height:200px;\">"
   ]
  },
  {
   "cell_type": "markdown",
   "metadata": {},
   "source": [
    "## Memoization\n",
    "\n",
    "#### What is it?\n",
    "\n",
    "In computing, memoization or memoisation is an optimization technique used primarily to speed up computer programs by storing the results of expensive function calls and returning the cached result when the same inputs occur again. Memoization has also been used in other contexts (and for purposes other than speed gains), such as in simple mutually recursive descent parsing.\n",
    "\n",
    "#### When should we use it?\n",
    "\n",
    "Some problems are largely made of <b>overlapping subproblems</b>. When we find our code is solving the same problem multiple times over it's a good idea to store them so we don't have to recompute those solutions. This is known as Dynamic Programming "
   ]
  },
  {
   "cell_type": "code",
   "execution_count": 1,
   "metadata": {},
   "outputs": [],
   "source": [
    "#The super power of Dictionaries\n",
    "fib_cache = {}"
   ]
  },
  {
   "cell_type": "code",
   "execution_count": 6,
   "metadata": {},
   "outputs": [
    {
     "name": "stdout",
     "output_type": "stream",
     "text": [
      "3878968454388325633701916308325905312082127714646245106160597214895550139044037097010822916462210669479293452858882973813483102008954982940361430156911478938364216563944106910214505634133706558656238254656700712525929903854933813928836378347518908762970712033337052923107693008518093849801803847813996748881765554653788291644268912980384613778969021502293082475666346224923071883324803280375039130352903304505842701147635242270210934637699104006714174883298422891491273104054328753298044273676822977244987749874555691907703880637046832794811358973739993110106219308149018570815397854379195305617510761053075688783766033667355445258844886241619210553457493675897849027988234351023599844663934853256411952221859563060475364645470760330902420806382584929156452876291575759142343809142302917491088984155209854432486594079793571316841692868039545309545388698114665082066862897420639323438488465240988742395873801976993820317174208932265468879364002630797780058759129671389634214252579116872755600360311370547754724604639987588046985178408674382863125\n"
     ]
    }
   ],
   "source": [
    "def fibonacci(n):\n",
    "    if n in fib_cache:\n",
    "        return fib_cache[n]\n",
    "    if n < 2:\n",
    "        return n\n",
    "    result = fibonacci(n-1)+fibonacci(n-2)\n",
    "    fib_cache[n] = result\n",
    "    return result\n",
    "\n",
    "\n",
    "\n",
    "print(fibonacci(5000))"
   ]
  },
  {
   "cell_type": "code",
   "execution_count": 8,
   "metadata": {},
   "outputs": [],
   "source": [
    "factorial_cache = {}"
   ]
  },
  {
   "cell_type": "code",
   "execution_count": 9,
   "metadata": {},
   "outputs": [
    {
     "name": "stdout",
     "output_type": "stream",
     "text": [
      "402387260077093773543702433923003985719374864210714632543799910429938512398629020592044208486969404800479988610197196058631666872994808558901323829669944590997424504087073759918823627727188732519779505950995276120874975462497043601418278094646496291056393887437886487337119181045825783647849977012476632889835955735432513185323958463075557409114262417474349347553428646576611667797396668820291207379143853719588249808126867838374559731746136085379534524221586593201928090878297308431392844403281231558611036976801357304216168747609675871348312025478589320767169132448426236131412508780208000261683151027341827977704784635868170164365024153691398281264810213092761244896359928705114964975419909342221566832572080821333186116811553615836546984046708975602900950537616475847728421889679646244945160765353408198901385442487984959953319101723355556602139450399736280750137837615307127761926849034352625200015888535147331611702103968175921510907788019393178114194545257223865541461062892187960223838971476088506276862967146674697562911234082439208160153780889893964518263243671616762179168909779911903754031274622289988005195444414282012187361745992642956581746628302955570299024324153181617210465832036786906117260158783520751516284225540265170483304226143974286933061690897968482590125458327168226458066526769958652682272807075781391858178889652208164348344825993266043367660176999612831860788386150279465955131156552036093988180612138558600301435694527224206344631797460594682573103790084024432438465657245014402821885252470935190620929023136493273497565513958720559654228749774011413346962715422845862377387538230483865688976461927383814900140767310446640259899490222221765904339901886018566526485061799702356193897017860040811889729918311021171229845901641921068884387121855646124960798722908519296819372388642614839657382291123125024186649353143970137428531926649875337218940694281434118520158014123344828015051399694290153483077644569099073152433278288269864602789864321139083506217095002597389863554277196742822248757586765752344220207573630569498825087968928162753848863396909959826280956121450994871701244516461260379029309120889086942028510640182154399457156805941872748998094254742173582401063677404595741785160829230135358081840096996372524230560855903700624271243416909004153690105933983835777939410970027753472000000000000000000000000000000000000000000000000000000000000000000000000000000000000000000000000000000000000000000000000000000000000000000000000000000000000000000000000000000000000000000000000000000000000000000000000000000000000000000000000000000000\n"
     ]
    }
   ],
   "source": [
    "def factorial(n):\n",
    "    if n in factorial_cache:\n",
    "        return factorial_cache[n]\n",
    "    if n == 0:\n",
    "        return 1\n",
    "    result = n * factorial(n-1)\n",
    "    factorial_cache[n] = result\n",
    "    return result\n",
    "print(factorial(1000))"
   ]
  },
  {
   "cell_type": "markdown",
   "metadata": {},
   "source": [
    "## Decorators"
   ]
  },
  {
   "cell_type": "markdown",
   "metadata": {},
   "source": [
    "<p>A Decorator in Python is a function that takes another function that as an argument, and returns a 3rd function. Decorators are extremely useful as they allow the extenson of an existing function, without any of the original source code.</p>"
   ]
  },
  {
   "cell_type": "code",
   "execution_count": 11,
   "metadata": {},
   "outputs": [
    {
     "name": "stdout",
     "output_type": "stream",
     "text": [
      "hello matrix\n"
     ]
    },
    {
     "data": {
      "text/plain": [
       "'HELLO MATRIX'"
      ]
     },
     "execution_count": 11,
     "metadata": {},
     "output_type": "execute_result"
    }
   ],
   "source": [
    "#Decorator Syntax\n",
    "\n",
    "def uppercase_decorator(func):\n",
    "    def wrapper():\n",
    "        result = func()\n",
    "        return result.upper()\n",
    "    return wrapper\n",
    "\n",
    "def greeting():\n",
    "    return 'hello matrix'\n",
    "\n",
    "print(greeting())\n",
    "greeting_uppercase = uppercase_decorator(greeting)()\n",
    "\n",
    "print(greeting_uppercase())"
   ]
  },
  {
   "cell_type": "code",
   "execution_count": 12,
   "metadata": {},
   "outputs": [
    {
     "name": "stdout",
     "output_type": "stream",
     "text": [
      "HELLO WORLD\n"
     ]
    }
   ],
   "source": [
    "@uppercase_decorator\n",
    "def say_hello():\n",
    "    return 'Hello World'\n",
    "print(say_hello())"
   ]
  },
  {
   "cell_type": "code",
   "execution_count": 15,
   "metadata": {},
   "outputs": [
    {
     "name": "stdout",
     "output_type": "stream",
     "text": [
      "Error e =TypeError(\"unsupported operand type(s) for +: 'int' and 'str'\")\n"
     ]
    }
   ],
   "source": [
    "def handle_errors(func):\n",
    "    def wrapper(*args):\n",
    "        try:\n",
    "            return func(*args)\n",
    "        except Exception as e:\n",
    "            print(f'Error {e =}')\n",
    "    return wrapper\n",
    "\n",
    "@handle_errors\n",
    "def add_nums(num1, num2):\n",
    "    return num1 +num2\n",
    "add_nums(5,'10')\n"
   ]
  },
  {
   "cell_type": "code",
   "execution_count": 17,
   "metadata": {},
   "outputs": [
    {
     "data": {
      "text/plain": [
       "788657867364790503552363213932185062295135977687173263294742533244359449963403342920304284011984623904177212138919638830257642790242637105061926624952829931113462857270763317237396988943922445621451664240254033291864131227428294853277524242407573903240321257405579568660226031904170324062351700858796178922222789623703897374720000000000000000000000000000000000000000000000000"
      ]
     },
     "execution_count": 17,
     "metadata": {},
     "output_type": "execute_result"
    }
   ],
   "source": [
    "def cache(func):\n",
    "    memo = {}\n",
    "    def wrapper(*args):\n",
    "        if args in memo:\n",
    "            return memo[args]\n",
    "        result = func(*args)\n",
    "        memo[args] = result\n",
    "        return result\n",
    "    return wrapper\n",
    "\n",
    "@cache\n",
    "def fib(n):\n",
    "    if n < 2:\n",
    "        return 1\n",
    "    return fib(n-1) + fib(n-2)\n",
    "fib(100)\n",
    "\n",
    "@cache\n",
    "def factorial(n):\n",
    "    if n in factorial_cache:\n",
    "        return factorial_cache[n]\n",
    "    if n == 0:\n",
    "        return 1\n",
    "    result = n * factorial(n-1)\n",
    "    factorial_cache[n] = result\n",
    "    return result\n",
    "\n",
    "factorial(200)"
   ]
  },
  {
   "cell_type": "markdown",
   "metadata": {},
   "source": [
    "## TwoSum Problem"
   ]
  },
  {
   "cell_type": "markdown",
   "metadata": {},
   "source": [
    "Given an array of integers, return the two numbers such that they add up to a specific target.\n",
    "\n",
    "You may assume that each input would have exactly one solution, and you may not use the same element twice."
   ]
  },
  {
   "cell_type": "code",
   "execution_count": null,
   "metadata": {},
   "outputs": [],
   "source": [
    "# In Python, the space complexity of an algorithm can be quadratic if the algorithm uses a nested loop and \n",
    "# creates a new data structure for each iteration of the outer loop, and the size of the new data structure is \n",
    "# proportional to the number of iterations of the inner loop. For example, a nested loop that creates a new list \n",
    "# for each iteration of the outer loop, and appends to the list for each iteration of the inner loop, would have a \n",
    "# space complexity of O(n^2), where n is the number of iterations of the outer loop.\""
   ]
  },
  {
   "cell_type": "code",
   "execution_count": null,
   "metadata": {},
   "outputs": [],
   "source": [
    "ex = [10,15,8,7,13]\n",
    "target = 16\n"
   ]
  },
  {
   "cell_type": "code",
   "execution_count": 32,
   "metadata": {},
   "outputs": [
    {
     "data": {
      "text/plain": [
       "(9, 7)"
      ]
     },
     "execution_count": 32,
     "metadata": {},
     "output_type": "execute_result"
    }
   ],
   "source": [
    "def twosum(list, target):\n",
    "    for e in list:\n",
    "        for i in list:\n",
    "            if i + e == target and i != e:\n",
    "                return i,e\n",
    "\n",
    "twosum([10,15,8,7,9,13], 16)\n",
    "                "
   ]
  },
  {
   "cell_type": "code",
   "execution_count": null,
   "metadata": {},
   "outputs": [],
   "source": []
  }
 ],
 "metadata": {
  "kernelspec": {
   "display_name": "Python 3 (ipykernel)",
   "language": "python",
   "name": "python3"
  },
  "language_info": {
   "codemirror_mode": {
    "name": "ipython",
    "version": 3
   },
   "file_extension": ".py",
   "mimetype": "text/x-python",
   "name": "python",
   "nbconvert_exporter": "python",
   "pygments_lexer": "ipython3",
   "version": "3.9.13"
  }
 },
 "nbformat": 4,
 "nbformat_minor": 2
}
